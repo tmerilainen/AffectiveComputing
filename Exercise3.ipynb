{
 "cells": [
  {
   "cell_type": "markdown",
   "metadata": {},
   "source": [
    "# Affective Computing - Programming Assignment 3\n",
    "\n",
    "### Objective\n",
    "\n",
    "Your task is to use the feature-level method to combine facial expression features and audio features. A multi-modal emotion recognition system is constructed to recognize happy versus sadness facial expressions (binary-class problem) by using a classifier training and testing structure.\n",
    "\n",
    "The original data is based on lab1 and lab2, from ten actors acting happy and sadness behaviors. \n",
    "* Task 1: Subspace-based feature fusion method: In this case, z-score normalization is utilized. Please read “Fusing Gabor and LBP feature sets for kernel-based face recognition” and learn how to use subspace-based feature fusion method for multi-modal system.\n",
    "\n",
    "* Task 2: Based on Task 1, use Canonical Correlation Analysis to calculate the correlation coefficients of facial expression and audio features. Finally, use CCA to build a multi-modal emotion recognition system. The method is described in one conference paper “Feature fusion method based on canonical correlation analysis and handwritten character recognition”\n",
    "* Task 3: Based on Task 1, create a Leave-One-Subject-Out (LOSO) cross-validation to estimate the performance more reliably.\n",
    "\n",
    "To produce emotion recognition case, Support Vector Machine (SVM) classifiers are trained.  50 videos from 5 participants are used to train the emotion recognition systems by using spatiotemporal features. The rest of the data (50 videos) are used to evaluate the performances of the trained recognition systems."
   ]
  },
  {
   "cell_type": "markdown",
   "metadata": {},
   "source": [
    "## Task 1. Subspace-based method  \n",
    "Please read “Fusing Gabor and LBP feature sets for kernel-based face recognition” and apply their framework for the exercise. We use Support Vector Machine (SVM) with linear kernel for classification. As opposed to using Gabor features we are using the prosodic features from the last exercise.\n"
   ]
  },
  {
   "cell_type": "markdown",
   "metadata": {},
   "source": [
    "### Setting up the environment \n",
    "\n",
    "First, we need to import the basic modules for loading the data and data processing"
   ]
  },
  {
   "cell_type": "code",
   "execution_count": 1,
   "metadata": {},
   "outputs": [],
   "source": [
    "import sys\n",
    "sys.path.append('../')\n",
    "from skimage import io\n",
    "from skimage import transform\n",
    "from skimage import color\n",
    "from skimage import img_as_ubyte\n",
    "import os\n",
    "import numpy as np\n",
    "import matplotlib.pyplot as plt\n",
    "import matplotlib.patches as patches\n",
    "import sklearn\n",
    "import scipy.io as sio"
   ]
  },
  {
   "cell_type": "markdown",
   "metadata": {},
   "source": [
    "### Loading data  <font color='red'>(0.5 point)</font>\n",
    "\n",
    "We load the facial expression data (training data, training class, testing data, testing class) and audio data (training data, testing data)"
   ]
  },
  {
   "cell_type": "code",
   "execution_count": 2,
   "metadata": {},
   "outputs": [],
   "source": [
    "mdata = sio.loadmat('lab3_data.mat')\n",
    "\n",
    "# Facial expression training and testing data, along with their classes\n",
    "training_data = mdata['training_data'] \n",
    "testing_data = mdata['testing_data']   \n",
    "training_class = mdata['training_class'] \n",
    "testing_class = mdata['testing_class'] \n",
    "\n",
    "# Audio prosodic features (training and testing)\n",
    "training_data_proso = mdata['training_data_proso']\n",
    "testing_data_proso = mdata['testing_data_proso']"
   ]
  },
  {
   "cell_type": "markdown",
   "metadata": {},
   "source": [
    "### Extract the subspace for facial expression features and audio features <font color='red'>(2 point)</font>\n",
    "Extract the subspace for facial expression features and audio features using principal component analysis through using **PCA class**.\n",
    "The `reduced_dim` is the dimensionality of the reduced subspace.\n",
    "Set `reduced_dim` to 20 and 15 for facial expression features and audio features, respectively. Normalization should be done subject wise. The test data should be normalized with the values from the training data.\n",
    "For concatenating the features use the __[`np.concatenate()`](https://docs.scipy.org/doc/numpy/reference/generated/numpy.concatenate.html)__ function.\n",
    "\n",
    "You will implement the PCA class with two methods, **fit** and **transform**. The **fit** method takes one input array with no return values and the **transform** method takes one input array and returns a transformed array with dimensions. Use (__[`numpy.linalg.svd`](https://numpy.org/doc/stable/reference/generated/numpy.linalg.svd.html)__) for singular values extraction."
   ]
  },
  {
   "cell_type": "code",
   "execution_count": 5,
   "metadata": {},
   "outputs": [],
   "source": [
    "class PCA:\n",
    "    \"\"\"Principal component analysis (PCA).\n",
    "    Parameters\n",
    "    ----------\n",
    "    n_components : int\n",
    "        Number of principal components to use.\n",
    "    whiten : bool, default=False\n",
    "        When true, the output of transformed features is divided by the\n",
    "        square root of the explained variance.\n",
    "    Examples\n",
    "    --------\n",
    "    >>> import numpy as np\n",
    "    >>> X = np.array([[-1, -1], [-2, -1], [-3, -2], [1, 1], [2, 1], [3, 2]])\n",
    "    >>> pca = PCA(n_components=2)\n",
    "    >>> pca.fit(X)\n",
    "    >>> pca.transform(X)\n",
    "    >>> array([[ 1.38340578,  0.2935787 ],\n",
    "               [ 2.22189802, -0.25133484],\n",
    "               [ 3.6053038 ,  0.04224385],\n",
    "               [-1.38340578, -0.2935787 ],\n",
    "               [-2.22189802,  0.25133484],\n",
    "               [-3.6053038 , -0.04224385]])\n",
    "    \"\"\"\n",
    "    def __init__(self, n_components: int, whiten: bool = False) -> None:\n",
    "        self.n_components = n_components\n",
    "        self.whiten = whiten\n",
    "        self.selected_components = None\n",
    "        self.mean = None \n",
    "                   \n",
    "    def fit(self, X: np.ndarray) -> None:\n",
    "        \"\"\"Fit the model with X.\n",
    "        Parameters\n",
    "        ----------\n",
    "        X : a numpy array with dimensions (n_samples, n_features)\n",
    "        \"\"\"        \n",
    "        #Step 1: Find the mean, and center the data\n",
    "        self.mean = np.mean(X, axis=0)\n",
    "        X_centered = X - self.mean\n",
    "        \n",
    "        #Step2:  Find the Covariance\n",
    "        cov = np.cov(X_centered, rowvar=False)\n",
    "\n",
    "        #Step 3: Apply SVD and choose the components, make the hermitian argument True.\n",
    "        U, S, Vt = np.linalg.svd(cov, hermitian=True)\n",
    "        self.selected_components = Vt[:self.n_components]\n",
    "        # choose the singular values of diagnal matrix\n",
    "        self.explained_variance = S[:self.n_components]\n",
    "    \n",
    "    def transform(self, X: np.ndarray) -> np.ndarray:\n",
    "        \"\"\"Transform X with the fitted model.\n",
    "        Parameters\n",
    "        ----------\n",
    "        X : a numpy array with dimensions (n_samples, n_features)\n",
    "        \n",
    "        Returns\n",
    "        -------\n",
    "        X_transformed: a numpy array with dimensions (n_samples, n_components)\n",
    "        \"\"\"\n",
    "        # Center the data \n",
    "        X_centered = X - self.mean\n",
    "        # Step 4: Choose and transform the features\n",
    "        X_transformed = np.dot(X_centered, self.selected_components.T)\n",
    "        if self.whiten:\n",
    "            # Normalize the transform features\n",
    "            X_transformed /= np.sqrt(self.explained_variance)\n",
    "        return X_transformed\n",
    "        "
   ]
  },
  {
   "cell_type": "code",
   "execution_count": 6,
   "metadata": {},
   "outputs": [],
   "source": [
    "#from sklearn.decomposition import PCA \n",
    "from scipy import stats\n",
    "from sklearn.preprocessing import StandardScaler\n",
    "#Set Reduced_dim for facial expression features and audio features, respectively.\n",
    "reduced_dim_v = 20\n",
    "reduced_dim_a = 15\n",
    "\n",
    "#Extract the subspace for facial expression features though PCA. \n",
    "#If you are using sklearn use random_state=0, to ensure consistant results\n",
    "pca_v = PCA(n_components=reduced_dim_v)\n",
    "pca_v.fit(training_data)\n",
    "\n",
    "scaler = StandardScaler()\n",
    "\n",
    "\n",
    "#Transform training_data and testing data respectively\n",
    "training_data_v_pca = pca_v.transform(training_data)\n",
    "testing_data_v_pca = pca_v.transform(testing_data)\n",
    "\n",
    "#Extract the subspace for audio features though PCA\n",
    "pca_a = PCA(n_components=reduced_dim_a)\n",
    "pca_a.fit(training_data_proso)\n",
    "\n",
    "#Transform the training_data and testing_data respectively\n",
    "training_data_a_pca = pca_a.transform(training_data_proso)\n",
    "testing_data_a_pca = pca_a.transform(testing_data_proso)\n",
    "\n",
    "#Normalize the features\n",
    "training_data_v_pca = scaler.fit_transform(training_data_v_pca)\n",
    "testing_data_v_pca = scaler.transform(testing_data_v_pca)\n",
    "\n",
    "training_data_a_pca = scaler.fit_transform(training_data_a_pca)\n",
    "testing_data_a_pca = scaler.transform(testing_data_a_pca)\n",
    "\n",
    "\n",
    "\n",
    "#Concatenate the transformed training data of facial expression features and audio features together\n",
    "combined_train = np.concatenate((training_data_v_pca, training_data_a_pca), axis=1)\n",
    "\n",
    "#Concatenate the transformed testing data of facial expression features and audio features together\n",
    "combined_test = np.concatenate((testing_data_v_pca, testing_data_a_pca), axis=1)"
   ]
  },
  {
   "cell_type": "markdown",
   "metadata": {},
   "source": [
    "### Question 1. Why is PCA used? Why not just concatenate the extracted features without PCA? <font color='red'>(0.5 point)</font>"
   ]
  },
  {
   "cell_type": "markdown",
   "metadata": {},
   "source": [
    "### Your answer:"
   ]
  },
  {
   "cell_type": "markdown",
   "metadata": {},
   "source": [
    "PCA helps with noise reduction and lowers the risk of overfitting"
   ]
  },
  {
   "cell_type": "markdown",
   "metadata": {},
   "source": [
    "### Feature classification <font color='red'>(0.5 point)</font>\n",
    "Use the __[`SVM`](http://scikit-learn.org/stable/modules/svm.html)__ function to train Support Vector Machine (SVM) classifiers.\n",
    "Construct a SVM using the combined training data and linear kernel. The `training_class` group vector contains the class of samples: 1 = happy, 2 = sadness, corresponding to the rows of the training data matrices.\n",
    "\n",
    "Then, calculate average classification performances for both training and testing data. The correct class labels corresponding with the rows of the training and testing data matrices are in the variables ‘training_class’ and ‘testing_class’, respectively."
   ]
  },
  {
   "cell_type": "code",
   "execution_count": 8,
   "metadata": {},
   "outputs": [
    {
     "name": "stdout",
     "output_type": "stream",
     "text": [
      "Training Accuracy: 1.0\n",
      "Testing Accuracy: 0.98\n"
     ]
    }
   ],
   "source": [
    "from sklearn import svm\n",
    "from sklearn.metrics import accuracy_score\n",
    "\n",
    "# Train SVM classifier\n",
    "clf = svm.SVC(kernel='linear', random_state=0)\n",
    "clf.fit(combined_train, training_class.ravel())\n",
    "\n",
    "#The prediction results\n",
    "train_predictions = clf.predict(combined_train)\n",
    "test_predictions = clf.predict(combined_test)\n",
    "\n",
    "#Calculate and print the training accuracy and testing accuracy. \n",
    "train_accuracy = accuracy_score(training_class, train_predictions)\n",
    "test_accuracy = accuracy_score(testing_class, test_predictions)\n",
    "\n",
    "print(f\"Training Accuracy: {train_accuracy}\")\n",
    "print(f\"Testing Accuracy: {test_accuracy}\")"
   ]
  },
  {
   "cell_type": "markdown",
   "metadata": {},
   "source": [
    "### <font color='red'>(0.5 point)</font>\n",
    "Compute the confusion matrices using __[`sklearn.metrics.confusion_matrix()`](http://scikit-learn.org/stable/modules/generated/sklearn.decomposition.PCA.html)__function for both the training data and testing data.\n"
   ]
  },
  {
   "cell_type": "code",
   "execution_count": 9,
   "metadata": {},
   "outputs": [
    {
     "name": "stdout",
     "output_type": "stream",
     "text": [
      "Confusion Matrix for Training Data:\n",
      "[[25  0]\n",
      " [ 0 25]]\n",
      "\n",
      "Confusion Matrix for Testing Data:\n",
      "[[25  0]\n",
      " [ 1 24]]\n"
     ]
    }
   ],
   "source": [
    "from sklearn.metrics import confusion_matrix\n",
    "\n",
    "# Step 1: Predict the class labels for training and testing data\n",
    "train_predictions = clf.predict(combined_train)\n",
    "test_predictions = clf.predict(combined_test)\n",
    "\n",
    "# Step 2: Compute confusion matrices for both training and testing data\n",
    "confusion_matrix_train = confusion_matrix(training_class, train_predictions)\n",
    "confusion_matrix_test = confusion_matrix(testing_class, test_predictions)\n",
    "\n",
    "# Step 3: Print the confusion matrices\n",
    "print(\"Confusion Matrix for Training Data:\")\n",
    "print(confusion_matrix_train)\n",
    "\n",
    "print(\"\\nConfusion Matrix for Testing Data:\")\n",
    "print(confusion_matrix_test)"
   ]
  },
  {
   "cell_type": "markdown",
   "metadata": {},
   "source": [
    "## Task 2. \n",
    "As opposed to a simple concatenation we can try something smarter that utilizes the common characteristics of the fused features. This is achieved using the CCA. Use the PCA transformed vectors and set the number of components for the CCA to be 15.\n"
   ]
  },
  {
   "cell_type": "markdown",
   "metadata": {},
   "source": [
    "### <font color='red'>(1 point)</font>\n",
    "\n",
    "Use (__[`sklearn.cross_decomposition.CCA()`](http://scikit-learn.org/stable/modules/generated/sklearn.cross_decomposition.CCA.html)__) function to calculate the correlation coefficients of facial expression features and audio features. For `n_components` of CCA use the same number as the reduced dimensionality of the audio features in the previous task."
   ]
  },
  {
   "cell_type": "code",
   "execution_count": 10,
   "metadata": {},
   "outputs": [],
   "source": [
    "from sklearn.cross_decomposition import CCA\n",
    "import numpy as np\n",
    "\n",
    "n_components = 15\n",
    "\n",
    "#Use CCA to construct the Canonical Projective Vector (CPV)\n",
    "cca = CCA(n_components=n_components)\n",
    "cca.fit(training_data_v_pca, training_data_a_pca)\n",
    "\n",
    "#Construct Canonical Correlation Discriminant Features (CCDF) for both the training data and testing data\n",
    "train_v_cca, train_a_cca = cca.transform(training_data_v_pca, training_data_a_pca)  # Transform training data\n",
    "test_v_cca, test_a_cca = cca.transform(testing_data_v_pca, testing_data_a_pca)\n",
    "\n",
    "\n",
    "# Concatenate the CCA transformed features for training data and testing data\n",
    "combined_train_cca = np.concatenate((train_v_cca, train_a_cca), axis=1)\n",
    "combined_test_cca = np.concatenate((test_v_cca, test_a_cca), axis=1)"
   ]
  },
  {
   "cell_type": "markdown",
   "metadata": {},
   "source": [
    "### <font color='red'>(1 point)</font>\n",
    "Train a SVM classifier using a linear kernel, print the training and testing accuracy and compute the confusion matrix."
   ]
  },
  {
   "cell_type": "code",
   "execution_count": 11,
   "metadata": {},
   "outputs": [
    {
     "name": "stdout",
     "output_type": "stream",
     "text": [
      "Training Accuracy: 1.0\n",
      "Testing Accuracy: 0.92\n",
      "Confusion Matrix for Training Data:\n",
      "[[25  0]\n",
      " [ 0 25]]\n",
      "Confusion Matrix for Testing Data:\n",
      "[[25  0]\n",
      " [ 4 21]]\n"
     ]
    }
   ],
   "source": [
    "#Train svm classifier \n",
    "clf_cca = svm.SVC(kernel='linear', random_state=0)  # Create a linear SVM classifier\n",
    "clf_cca.fit(combined_train_cca, training_class.ravel())\n",
    "\n",
    "#The prediction results\n",
    "train_predictions_cca = clf_cca.predict(combined_train_cca)  # Predict on training data\n",
    "test_predictions_cca = clf_cca.predict(combined_test_cca)\n",
    "\n",
    "#Calculate and print the training accuracy and testing accuracy. \n",
    "train_accuracy_cca = accuracy_score(training_class, train_predictions_cca)\n",
    "test_accuracy_cca = accuracy_score(testing_class, test_predictions_cca)\n",
    "\n",
    "print(f\"Training Accuracy: {train_accuracy_cca}\")\n",
    "print(f\"Testing Accuracy: {test_accuracy_cca}\")\n",
    "\n",
    "confusion_matrix_train_cca = confusion_matrix(training_class, train_predictions_cca)\n",
    "confusion_matrix_test_cca = confusion_matrix(testing_class, test_predictions_cca)\n",
    "\n",
    "print(\"Confusion Matrix for Training Data:\")\n",
    "print(confusion_matrix_train_cca)\n",
    "\n",
    "print(\"Confusion Matrix for Testing Data:\")\n",
    "print(confusion_matrix_test_cca)"
   ]
  },
  {
   "cell_type": "markdown",
   "metadata": {},
   "source": [
    "### Question 2. In this exercise a feature-level method was used to fuse the features. What are the other types of methods for data fusion? <font color='red'>(0.5 point)</font>"
   ]
  },
  {
   "cell_type": "markdown",
   "metadata": {},
   "source": [
    "### Your answer:"
   ]
  },
  {
   "cell_type": "markdown",
   "metadata": {},
   "source": [
    "Decision-Level Fusion, Model-Level Fusion and Contextual Fusion for example."
   ]
  },
  {
   "cell_type": "markdown",
   "metadata": {},
   "source": [
    "### Question 3. Compare the results from all the the different methods from assignments 1, 2 and 3. What method performed the best? What was the worst? Hypothesize as to why certain methods performed better than others. <font color='red'>(0.5 point)</font>"
   ]
  },
  {
   "cell_type": "markdown",
   "metadata": {},
   "source": [
    "### Your answer:"
   ]
  },
  {
   "cell_type": "markdown",
   "metadata": {},
   "source": [
    "Exercise 1 had the worst performances and this exercise had the best.\n",
    "Exercise 1 had simple evaluations and lacked features. Exercise 3 used PCA and CCA, and didn't have overfitting."
   ]
  },
  {
   "cell_type": "markdown",
   "metadata": {},
   "source": [
    "## Task 3: \n",
    "For a more reliable evaluation, often the Leave-One-Subject-Out (LOSO) cross-validation is used instead of the common train-test split. Cross-validation gives us a more reliable measure of the performance as all of the data is used for both training and testing. LOSO is used as emotions are highly dependent on the subject. By using LOSO, we guarantee that a subject is always in either the training or testing data and not in both.\n",
    "\n",
    "* Join the training/testing data matrices and the class vectors. Combine also the ‘training_data_personID’ and ‘testing_data_personID’ vectors.\n",
    "\n",
    "* Assume we have a total of $n$ subjects. Now, we will create a total of $n$ folds (loops), where each folds' training set contains the data from $n-1$ subjects and the testing set consists of only $1$ subject.\n",
    "\n",
    "* Follow the steps taken in the first task: project the data to a subspace using PCA, conatenate the audio and video features together, train an SVM and finally evaluate the performance.\n",
    "\n",
    "* The solution should be able to generalize over different numbers of subjects and samples, *e.g.*, a dataset may have 24 subjects, where subject1 has 4 samples and subject2 has 32 samples.\n",
    "\n",
    "### <font color='red'>(0.5 point)</font>"
   ]
  },
  {
   "cell_type": "code",
   "execution_count": 12,
   "metadata": {},
   "outputs": [
    {
     "name": "stdout",
     "output_type": "stream",
     "text": [
      "Shape of lbp_data:  (100, 708)\n",
      "Shape of proso_data:  (100, 15)\n",
      "Shape of labels:  (100,)\n",
      "Shape of subjects:  (100,)\n",
      "Value of subject_ids:  [ 1  2  3  4  5  7  8  9 10 12]\n"
     ]
    }
   ],
   "source": [
    "mdata = sio.loadmat('lab3_data.mat')\n",
    "\n",
    "#Combine the training data, testing data,label and persion ID for video and audio respectively, in order to get the whole dataset. \n",
    "lbp_data = np.concatenate((mdata['training_data'], mdata['testing_data']), axis=0)\n",
    "proso_data = np.concatenate((mdata['training_data_proso'], mdata['testing_data_proso']), axis=0)\n",
    "\n",
    "labels = np.concatenate((mdata['training_class'], mdata['testing_class']), axis=0).ravel()\n",
    "subjects = np.concatenate((mdata['training_personID'], mdata['testing_personID']), axis=0).ravel()\n",
    "\n",
    "#Get the number of the subject\n",
    "subject_ids = np.unique(subjects)\n",
    "\n",
    "#Print the shapes and the list of subject_ids for a sanity check\n",
    "print(\"Shape of lbp_data: \", lbp_data.shape)\n",
    "print(\"Shape of proso_data: \", proso_data.shape)\n",
    "print(\"Shape of labels: \", labels.shape)\n",
    "print(\"Shape of subjects: \", subjects.shape)\n",
    "print(\"Value of subject_ids: \", subject_ids)\n"
   ]
  },
  {
   "cell_type": "markdown",
   "metadata": {},
   "source": [
    "### <font color='red'>(2 point)</font>"
   ]
  },
  {
   "cell_type": "code",
   "execution_count": 13,
   "metadata": {},
   "outputs": [
    {
     "name": "stdout",
     "output_type": "stream",
     "text": [
      "List of accuracies:  [0.9, 0.8, 1.0, 0.9, 0.9, 1.0, 1.0, 1.0, 0.8, 1.0]\n",
      "Mean of accuracies:  0.93\n"
     ]
    }
   ],
   "source": [
    "accuracies = []\n",
    "#Loop over each subject\n",
    "for subject_id in subject_ids:\n",
    "   \n",
    "    #Create a boolean array for the training and testing set indices\n",
    "    #The train_idx should be a list of form [True, True, False, ...], where True indicates the position\n",
    "    #for the samples that are not the current subject_id\n",
    "    train_idx = (subjects != subject_id)\n",
    "    \n",
    "    #Similar for the test_idx, True indicates the position of the current subject_id\n",
    "    test_idx = (subjects == subject_id)\n",
    "\n",
    "    #Create the training and testing sets for lbp, proso and labels by indexing lbp_data, proso_data and labels\n",
    "    #with the boolean arrays train_idx and test_idx\n",
    "    train_lbp = lbp_data[train_idx]\n",
    "    test_lbp = lbp_data[test_idx]\n",
    "    train_proso = proso_data[train_idx]\n",
    "    test_proso = proso_data[test_idx]\n",
    "    train_labels = labels[train_idx]\n",
    "    test_labels = labels[test_idx]\n",
    "\n",
    "#Create the PCA for both lbp and proso. We take a slight shortcut compared to task 1,\n",
    "#by using the whiten=True parameter for normalizing the features. This means that\n",
    "#there is no need for normalization afterwards\n",
    "    pca_v = PCA(n_components=20, whiten=True)\n",
    "    pca_a = PCA(n_components=15, whiten=True)\n",
    "\n",
    "#Fit the PCAs with the training data\n",
    "    pca_v.fit(train_lbp)\n",
    "    pca_a.fit(train_proso)\n",
    "\n",
    "#Transform both the training and testing data with the PCA\n",
    "    transform_train_lbp = pca_v.transform(train_lbp)\n",
    "    transform_test_lbp = pca_v.transform(test_lbp)\n",
    "    transform_train_proso = pca_a.transform(train_proso)\n",
    "    transform_test_proso = pca_a.transform(test_proso)\n",
    "\n",
    "#Concatenate the features together\n",
    "    combined_train = np.concatenate((transform_train_lbp, transform_train_proso), axis=1)\n",
    "    combined_test = np.concatenate((transform_test_lbp, transform_test_proso), axis=1)\n",
    "\n",
    "#Create a linear SVM and train it\n",
    "    clf = svm.SVC(kernel='linear')\n",
    "    clf.fit(combined_train, train_labels.ravel())\n",
    "\n",
    "#Calculate the accuracy for the testing data and add it to the list of accuracies\n",
    "    pred_test = clf.predict(combined_test)\n",
    "    accuracy = accuracy_score(test_labels.ravel(), pred_test)\n",
    "    accuracies.append(accuracy)\n",
    "\n",
    "#Calculate the average of the accuracies. Print both the list of accuracies and the average\n",
    "print(\"List of accuracies: \", accuracies)\n",
    "print(\"Mean of accuracies: \", np.mean(accuracies))  \n"
   ]
  },
  {
   "cell_type": "markdown",
   "metadata": {},
   "source": [
    "### Question 4. The accuracy of LOSO (0.93) is lower than the accuracy achieved by the train-test split (0.98) in task 1. Hypothesize as to why the two are different. Which one is better for evaluation?  <font color='red'>(0.25 point)</font>"
   ]
  },
  {
   "cell_type": "markdown",
   "metadata": {},
   "source": [
    "### Your answer:"
   ]
  },
  {
   "cell_type": "markdown",
   "metadata": {},
   "source": [
    "If there is any data leakage in the train-test split, model can benefit from it and lead to overfitting. LOSO cross-validation evaluates model's ability to generalize to unseen subjects, which usually leads to lower accuracies. But I think that is better for evaluation because it gives more realistic scores."
   ]
  },
  {
   "cell_type": "markdown",
   "metadata": {},
   "source": [
    "### Question 5. In PCA why `whiten` parametere is better and why it replaces the normalization?  <font color='red'>(0.25 point)</font>"
   ]
  },
  {
   "cell_type": "markdown",
   "metadata": {},
   "source": [
    "### Your answer:"
   ]
  },
  {
   "cell_type": "markdown",
   "metadata": {},
   "source": [
    "Whiten parameter is better because each component has the same variance, classification benefits from this.\n",
    "\n",
    "Normalization needs to be done seperately and whiten is performed during PCA transformation. It simplifies the work needed to be done and ensures that features have equal importance after transformation.\n"
   ]
  }
 ],
 "metadata": {
  "kernelspec": {
   "display_name": "Python 3",
   "language": "python",
   "name": "python3"
  },
  "language_info": {
   "codemirror_mode": {
    "name": "ipython",
    "version": 3
   },
   "file_extension": ".py",
   "mimetype": "text/x-python",
   "name": "python",
   "nbconvert_exporter": "python",
   "pygments_lexer": "ipython3",
   "version": "3.10.0"
  }
 },
 "nbformat": 4,
 "nbformat_minor": 2
}
